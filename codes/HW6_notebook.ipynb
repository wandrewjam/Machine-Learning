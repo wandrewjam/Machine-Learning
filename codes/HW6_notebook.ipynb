{
 "cells": [
  {
   "cell_type": "code",
   "execution_count": 9,
   "metadata": {
    "collapsed": true
   },
   "outputs": [],
   "source": [
    "import numpy as np\n",
    "import matplotlib.pyplot as plt"
   ]
  },
  {
   "cell_type": "code",
   "execution_count": 10,
   "metadata": {},
   "outputs": [],
   "source": [
    "def transform(x):\n",
    "    x1 = x[:, 0]\n",
    "    x2 = x[:, 1]\n",
    "    phi = np.ones([x.shape[0], 8])\n",
    "    phi[:, 1:3] = x\n",
    "    phi[:, 3:5] = x**2\n",
    "    phi[:, 5] = x1*x2\n",
    "    phi[:, 6] = np.abs(x1 - x2)\n",
    "    phi[:, 7] = np.abs(x1 + x2)\n",
    "    return phi"
   ]
  },
  {
   "cell_type": "code",
   "execution_count": 11,
   "metadata": {
    "collapsed": true
   },
   "outputs": [],
   "source": [
    "def classify_points(Z_data, w_guess):\n",
    "    return np.sign(np.dot(Z_data, w_guess))"
   ]
  },
  {
   "cell_type": "code",
   "execution_count": 12,
   "metadata": {},
   "outputs": [],
   "source": [
    "def run_linear_regression(X_in, y_in, X_out, y_out, weight_decay=False, lam=None):\n",
    "    # Apply the nonlinear transformation to the data\n",
    "    Z_in, Z_out = transform(X_in), transform(X_out)\n",
    "    \n",
    "    # Find the least squares solution w to Z*w = y\n",
    "    if weight_decay:\n",
    "        A = np.dot(Z_in.T, Z_in) + lam*np.eye(8)\n",
    "        b = np.dot(Z_in.T, y_in)\n",
    "        w = np.linalg.solve(A, b)\n",
    "    else:\n",
    "        w = np.linalg.lstsq(Z_in, y_in)[0]\n",
    "    \n",
    "    # Classify points based on w\n",
    "    y_in_guess, y_out_guess = classify_points(Z_in, w), classify_points(Z_out, w)\n",
    "    \n",
    "    # Calculate the error\n",
    "    error_in = np.mean(y_in_guess != y_in)\n",
    "    error_out = np.mean(y_out_guess != y_out)\n",
    "    return w, error_in, error_out"
   ]
  },
  {
   "cell_type": "code",
   "execution_count": 13,
   "metadata": {},
   "outputs": [],
   "source": [
    "# Import data from the listed url\n",
    "in_sample = np.loadtxt(np.DataSource().open('http://work.caltech.edu/data/in.dta'))\n",
    "out_sample = np.loadtxt(np.DataSource().open('http://work.caltech.edu/data/out.dta'))"
   ]
  },
  {
   "cell_type": "code",
   "execution_count": 14,
   "metadata": {},
   "outputs": [
    {
     "name": "stdout",
     "output_type": "stream",
     "text": [
      "Without regularization\n",
      "E_in = 0.029         E_out = 0.084\n",
      "\n",
      "With regularization parameter k = -3\n",
      "E_in = 0.029         E_out = 0.080\n",
      "\n",
      "With regularization parameter k = -2\n",
      "E_in = 0.029         E_out = 0.084\n",
      "\n",
      "With regularization parameter k = -1\n",
      "E_in = 0.029         E_out = 0.056\n",
      "\n",
      "With regularization parameter k = 0\n",
      "E_in = 0.000         E_out = 0.092\n",
      "\n",
      "With regularization parameter k = 1\n",
      "E_in = 0.057         E_out = 0.124\n",
      "\n",
      "With regularization parameter k = 2\n",
      "E_in = 0.200         E_out = 0.228\n",
      "\n",
      "With regularization parameter k = 3\n",
      "E_in = 0.371         E_out = 0.436\n"
     ]
    }
   ],
   "source": [
    "# Run the program without weight decay\n",
    "X_in, y_in = in_sample[:, 0:2], in_sample[:, 2]\n",
    "X_out, y_out = out_sample[:, 0:2], out_sample[:,2]\n",
    "w, error_in, error_out = run_linear_regression(X_in, y_in, X_out, y_out)\n",
    "\n",
    "title_str = '\\nWith regularization parameter k = %d'\n",
    "error_str = 'E_in = %.3f         E_out = %.3f'\n",
    "\n",
    "print('Without regularization')\n",
    "print(error_str % (error_in, error_out))\n",
    "\n",
    "for k in range(-3, 4):\n",
    "    w, error_in, error_out = run_linear_regression(X_in, y_in, X_out, y_out, weight_decay=True, lam=10**k)\n",
    "    print(title_str % k)\n",
    "    print(error_str % (error_in, error_out))"
   ]
  },
  {
   "cell_type": "code",
   "execution_count": 15,
   "metadata": {
    "collapsed": true
   },
   "outputs": [
    {
     "name": "stdout",
     "output_type": "stream",
     "text": [
      "-1.0724684\n",
      "1.0815951\n"
     ]
    }
   ],
   "source": [
    "min_x = np.min([np.amin(X_in), np.amin(X_out)])\n",
    "max_x = np.max([np.amax(X_in), np.amax(X_out)])\n",
    "\n",
    "print(min_x)\n",
    "print(max_x)"
   ]
  },
  {
   "cell_type": "code",
   "execution_count": 16,
   "metadata": {
    "collapsed": true
   },
   "outputs": [
    {
     "data": {
      "image/png": "[encoded data removed]",
      "text/plain": [
       "<matplotlib.figure.Figure at 0x112a71e10>"
      ]
     },
     "metadata": {},
     "output_type": "display_data"
    }
   ],
   "source": [
    "# Sample plot of the data points and classification boundary\n",
    "\n",
    "\n",
    "# Split the test points into the two classification groups\n",
    "out = False\n",
    "if out:\n",
    "    positives = X_out[y_out>0, :]\n",
    "    negatives = X_out[y_out<0, :]\n",
    "else:\n",
    "    positives = X_in[y_in>0, :]\n",
    "    negatives = X_in[y_in<0, :]\n",
    "\n",
    "# Plot f, g, and \\mathbf{x}\n",
    "xpos = positives[:, 0]\n",
    "ypos = positives[:, 1]\n",
    "xneg = negatives[:, 0]\n",
    "yneg = negatives[:, 1]\n",
    "\n",
    "plot_x = np.linspace(-1.1, 1.1)\n",
    "X1, X2 = np.meshgrid(plot_x, plot_x)\n",
    "\n",
    "w = run_linear_regression(X_in, y_in, X_out, y_out, weight_decay=True, lam=1)[0]\n",
    "plt.plot(xneg, yneg, '.g')\n",
    "plt.plot(xpos, ypos, '.r')\n",
    "plt.contour(X1, X2, w[0] + w[1]*X1 + w[2]*X2 + w[3]*X1**2 + w[4]*X2**2 \n",
    "            + w[5]*X1*X2 + w[6]*np.abs(X1 - X2) + w[7]*np.abs(X1 + X2), [0])\n",
    "plt.show()"
   ]
  },
  {
   "cell_type": "code",
   "execution_count": null,
   "metadata": {
    "collapsed": true
   },
   "outputs": [],
   "source": []
  }
 ],
 "metadata": {
  "kernelspec": {
   "display_name": "Python 3",
   "language": "python",
   "name": "python3"
  },
  "language_info": {
   "codemirror_mode": {
    "name": "ipython",
    "version": 3
   },
   "file_extension": ".py",
   "mimetype": "text/x-python",
   "name": "python",
   "nbconvert_exporter": "python",
   "pygments_lexer": "ipython3",
   "version": "3.5.4"
  }
 },
 "nbformat": 4,
 "nbformat_minor": 1
}
