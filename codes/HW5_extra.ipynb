{
 "cells": [
  {
   "cell_type": "code",
   "execution_count": 1,
   "metadata": {
    "collapsed": true
   },
   "outputs": [],
   "source": [
    "import numpy as np\n",
    "import matplotlib.pyplot as plt"
   ]
  },
  {
   "cell_type": "code",
   "execution_count": 2,
   "metadata": {
    "collapsed": true
   },
   "outputs": [],
   "source": [
    "def generate_target():\n",
    "    # Generate the target function f\n",
    "    div_points = np.random.rand(2, 2)\n",
    "    w1 = (div_points[1, 1] - div_points[0, 1])/(div_points[1, 0] - div_points[0, 0])\n",
    "    w0 = div_points[0, 1] - div_points[0, 0]*w1\n",
    "    w = np.array([w0, w1, -1])\n",
    "    return w"
   ]
  },
  {
   "cell_type": "code",
   "execution_count": 3,
   "metadata": {
    "collapsed": true
   },
   "outputs": [],
   "source": [
    "def generate_sample(num_points, w):\n",
    "    # Generate the test points and classify\n",
    "    X = np.ones([num_points, 3])\n",
    "    X[:, 1:3] = np.random.rand(num_points, 2)\n",
    "    y = np.sign(np.dot(X, w))\n",
    "    return X, y"
   ]
  },
  {
   "cell_type": "code",
   "execution_count": null,
   "metadata": {
    "collapsed": true
   },
   "outputs": [],
   "source": [
    "def log_regression(training, g_init=np.zeros(3), tol=1e-6, max_iter=10**4, eta=0.1):\n",
    "    g = g_init\n",
    "    iters = 0\n",
    "    n_points, n_cols = training.shape\n",
    "    y = training[:, -1]\n",
    "    X = training[:, 0:n_cols-1]\n",
    "    error = tol+1\n",
    "\n",
    "    while error > tol and iters < max_iter:\n",
    "        inds = np.random.permutation(n_points)\n",
    "        old = g\n",
    "        for i in inds:\n",
    "            g = g + eta*(y[i]*X[i,:])/(1 + np.exp(y[i]*np.dot(X[i,:], g)))\n",
    "        iters += 1\n",
    "        error = np.linalg.norm(g - old)\n",
    "\n",
    "    return g, iters"
   ]
  },
  {
   "cell_type": "code",
   "execution_count": 4,
   "metadata": {
    "collapsed": false
   },
   "outputs": [],
   "source": [
    "NPOINTS = 10**2\n",
    "w = generate_target()\n",
    "training = np.zeros([NPOINTS, 4])\n",
    "training[:, 0:3], training[:, 3] = generate_sample(NPOINTS, w)"
   ]
  },
  {
   "cell_type": "code",
   "execution_count": 7,
   "metadata": {
    "collapsed": false
   },
   "outputs": [
    {
     "data": {
      "image/png": "[encoded data removed]",
      "text/plain": [
       "<matplotlib.figure.Figure at 0x10e7369e8>"
      ]
     },
     "metadata": {},
     "output_type": "display_data"
    }
   ],
   "source": [
    "g = -g/g[2]\n",
    "w0, w1 = w[0], w[1]\n",
    "g0, g1 = g[0], g[1]\n",
    "\n",
    "# Split the test points into the two classification groups\n",
    "positives = training[training[:,-1]>0,:]\n",
    "negatives = training[training[:,-1]<0,:]\n",
    "\n",
    "# Plot f, g, and \\mathbf{x}\n",
    "x = np.linspace(0,1)\n",
    "xpos = positives[:,1]\n",
    "ypos = positives[:,2]\n",
    "xneg = negatives[:,1]\n",
    "yneg = negatives[:,2]\n",
    "\n",
    "plt.plot(xneg,yneg,'.g')\n",
    "plt.plot(xpos,ypos,'.r')\n",
    "plt.plot(x,w1*x+w0)\n",
    "plt.plot(x,g1*x+g0,'--k')\n",
    "plt.axis([0,1,0,1])\n",
    "#plt.legend(['Negative','Positive'])\n",
    "plt.show()"
   ]
  },
  {
   "cell_type": "code",
   "execution_count": null,
   "metadata": {
    "collapsed": true
   },
   "outputs": [],
   "source": []
  }
 ],
 "metadata": {
  "kernelspec": {
   "display_name": "Python 3",
   "language": "python",
   "name": "python3"
  },
  "language_info": {
   "codemirror_mode": {
    "name": "ipython",
    "version": 3
   },
   "file_extension": ".py",
   "mimetype": "text/x-python",
   "name": "python",
   "nbconvert_exporter": "python",
   "pygments_lexer": "ipython3",
   "version": "3.5.2"
  }
 },
 "nbformat": 4,
 "nbformat_minor": 0
}
