{
 "cells": [
  {
   "cell_type": "code",
   "execution_count": 1,
   "metadata": {},
   "outputs": [],
   "source": [
    "import numpy as np\n",
    "import matplotlib.pyplot as plt\n",
    "from "
   ]
  },
  {
   "cell_type": "markdown",
   "metadata": {},
   "source": [
    "## Validation Problems"
   ]
  },
  {
   "cell_type": "code",
   "execution_count": 2,
   "metadata": {
    "collapsed": true
   },
   "outputs": [],
   "source": [
    "def transform(x, k=7):\n",
    "    x1 = x[:, 0]\n",
    "    x2 = x[:, 1]\n",
    "    phi = np.ones([x.shape[0], k + 1])\n",
    "    phi[:, 1:3] = x\n",
    "    if k >= 4:\n",
    "        phi[:, 3:5] = x**2\n",
    "    if k >= 5:\n",
    "        phi[:, 5] = x1*x2\n",
    "    if k >= 6:\n",
    "        phi[:, 6] = np.abs(x1 - x2)\n",
    "    if k == 7:\n",
    "        phi[:, 7] = np.abs(x1 + x2)\n",
    "    return phi"
   ]
  },
  {
   "cell_type": "code",
   "execution_count": 3,
   "metadata": {
    "collapsed": true
   },
   "outputs": [],
   "source": [
    "def classify_points(Z_data, w_guess):\n",
    "    return np.sign(np.dot(Z_data, w_guess))"
   ]
  },
  {
   "cell_type": "code",
   "execution_count": 4,
   "metadata": {
    "collapsed": true
   },
   "outputs": [],
   "source": [
    "def error_function(w_guess, Z, y):\n",
    "    # Classify points based on w_guess\n",
    "    y_guess = classify_points(Z, w_guess)\n",
    "    \n",
    "    # Calculate the error\n",
    "    error = np.mean(y_guess != y)\n",
    "    return error"
   ]
  },
  {
   "cell_type": "code",
   "execution_count": 5,
   "metadata": {
    "collapsed": true
   },
   "outputs": [],
   "source": [
    "def run_linear_regression(X, y, k=7, weight_decay=False, lam=None):\n",
    "    # Check the value of k\n",
    "    if k < 3 or k > 7:\n",
    "        print('k must be in the interval [3, 7]')\n",
    "        return (0, -1)\n",
    "    \n",
    "    # Apply the nonlinear transformation to the data\n",
    "    Z = transform(X, k)\n",
    "    \n",
    "    # Find the least squares solution w to Z*w = y\n",
    "    if weight_decay:\n",
    "        A = np.dot(Z.T, Z) + lam*np.eye(Z.shape)\n",
    "        b = np.dot(Z.T, y)\n",
    "        w = np.linalg.solve(A, b)\n",
    "    else:\n",
    "        w = np.linalg.lstsq(Z, y)[0]\n",
    "    \n",
    "    error_in = error_function(w, Z, y)\n",
    "    return w, error_in"
   ]
  },
  {
   "cell_type": "code",
   "execution_count": 6,
   "metadata": {
    "collapsed": true
   },
   "outputs": [],
   "source": [
    "def train_and_validate(train, valid, test):\n",
    "    format_str = 'For k = %d: E_in = %.2f, E_val = %.2f, E_out = %.3f'\n",
    "\n",
    "    e_in = np.zeros(5)\n",
    "    e_val = np.zeros(5)\n",
    "    e_test = np.zeros(5)\n",
    "    for k in range(3,8):\n",
    "        X_train, y_train = train[:, 0:2], train[:, 2]\n",
    "        w, e_in[k - 3] = run_linear_regression(X_train, y_train, k)\n",
    "        X_val, y_val = valid[:, 0:2], valid[:, 2]\n",
    "        e_val[k - 3] = error_function(w, transform(X_val, k), y_val)\n",
    "        X_test, y_test = test[:, 0:2], test[:, 2]\n",
    "        e_test[k - 3] = error_function(w, transform(X_test, k), y_test)\n",
    "        print(format_str % (k, e_in[k - 3], e_val[k - 3], e_test[k - 3]))\n",
    "    return None"
   ]
  },
  {
   "cell_type": "code",
   "execution_count": 7,
   "metadata": {
    "collapsed": true
   },
   "outputs": [],
   "source": [
    "# Import data from the listed url\n",
    "in_sample = np.loadtxt(np.DataSource().open('http://work.caltech.edu/data/in.dta'))\n",
    "out_sample = np.loadtxt(np.DataSource().open('http://work.caltech.edu/data/out.dta'))"
   ]
  },
  {
   "cell_type": "code",
   "execution_count": 8,
   "metadata": {},
   "outputs": [
    {
     "name": "stdout",
     "output_type": "stream",
     "text": [
      "Errors with 25 training samples and 10 validation samples\n",
      "-----------------------------------------------------------------\n",
      "For k = 3: E_in = 0.60, E_val = 0.70, E_out = 0.648\n",
      "For k = 4: E_in = 0.32, E_val = 0.50, E_out = 0.416\n",
      "For k = 5: E_in = 0.08, E_val = 0.20, E_out = 0.188\n",
      "For k = 6: E_in = 0.04, E_val = 0.00, E_out = 0.084\n",
      "For k = 7: E_in = 0.04, E_val = 0.10, E_out = 0.072\n",
      "\n",
      "Errors with 10 training samples and 25 validation samples\n",
      "-----------------------------------------------------------------\n",
      "For k = 3: E_in = 0.50, E_val = 0.44, E_out = 0.448\n",
      "For k = 4: E_in = 0.30, E_val = 0.36, E_out = 0.388\n",
      "For k = 5: E_in = 0.20, E_val = 0.20, E_out = 0.284\n",
      "For k = 6: E_in = 0.00, E_val = 0.08, E_out = 0.192\n",
      "For k = 7: E_in = 0.00, E_val = 0.12, E_out = 0.196\n"
     ]
    }
   ],
   "source": [
    "print('Errors with 25 training samples and 10 validation samples')\n",
    "print('-'*65)\n",
    "train_and_validate(in_sample[0:25], in_sample[25:], out_sample)\n",
    "print('\\nErrors with 10 training samples and 25 validation samples')\n",
    "print('-'*65)\n",
    "train_and_validate(in_sample[25:], in_sample[0:25], out_sample)"
   ]
  },
  {
   "cell_type": "markdown",
   "metadata": {},
   "source": [
    "## SVM Problems"
   ]
  },
  {
   "cell_type": "code",
   "execution_count": 9,
   "metadata": {
    "collapsed": true
   },
   "outputs": [],
   "source": [
    "def generate_target(low=-1, high=1):\n",
    "    # Generate the target function f\n",
    "    div_points = np.random.uniform(low=low, high=high, size=(2, 2))\n",
    "    w1 = (div_points[1, 1] - div_points[0, 1])/(div_points[1, 0] - div_points[0, 0])\n",
    "    w0 = div_points[0, 1] - div_points[0, 0]*w1\n",
    "    w = np.array([w0, w1, -1])\n",
    "    return w"
   ]
  },
  {
   "cell_type": "code",
   "execution_count": 10,
   "metadata": {
    "collapsed": true
   },
   "outputs": [],
   "source": [
    "def generate_sample(num_points, w, low=-1, high=1):\n",
    "    # Generate the test points and classify\n",
    "    data = np.ones([num_points, 6])\n",
    "    data[:, 1:3] = np.random.uniform(low=low, high=high, size=(num_points, 2))\n",
    "    data[:, 3] = np.sign(np.dot(data[:, 0:3], w))\n",
    "    \n",
    "    # Generate new data if all of the points are classified the same\n",
    "    while np.abs(np.sum(data[:, 3])) == num_points:\n",
    "        data[:, 1:3] = np.random.uniform(low=low, high=high, size=(num_points, 2))\n",
    "        data[:, 3] = np.sign(np.dot(data[:, 0:3], w))\n",
    "    return data"
   ]
  },
  {
   "cell_type": "code",
   "execution_count": 11,
   "metadata": {
    "collapsed": true
   },
   "outputs": [],
   "source": [
    "def pla(data, g_init=np.zeros(3)):\n",
    "    # Implement PLA, count the iterations to convergence, and the error\n",
    "    g = g_init\n",
    "    iters = 0\n",
    "    \n",
    "    data[:, 4] = np.sign(np.dot(data[:, 0:3], g))\n",
    "    data[:, 5] = data[:, 3] == data[:, 4]\n",
    "    wrong = data[data[:, 5] < 1, :]\n",
    "    nrows = wrong.shape[0]\n",
    "    while nrows > 0:\n",
    "        if nrows == 1:\n",
    "            g = g + wrong[0, 0:3]*wrong[0, 3]\n",
    "        else:\n",
    "            rind = np.random.randint(0, nrows)\n",
    "            g = g + wrong[rind, 0:3]*wrong[rind, 3]\n",
    "        iters += 1\n",
    "        data[:, 4] = np.sign(np.dot(data[:, 0:3], g))\n",
    "        data[:, 5] = data[:, 3] == data[:, 4]\n",
    "        wrong = data[data[:, 5] < 1, :]\n",
    "        nrows = wrong.shape[0]\n",
    "    return g, iters"
   ]
  },
  {
   "cell_type": "code",
   "execution_count": 12,
   "metadata": {
    "collapsed": true
   },
   "outputs": [],
   "source": [
    "def monte_carlo(w, g, mc_iter=10**6):\n",
    "    mcpoints = np.ones([mc_iter, 4])\n",
    "    mcpoints[:, 1:3] = np.random.rand(mc_iter, 2)\n",
    "    mcpoints[:, 3] = np.sign(np.dot(mcpoints[:, 0:3], w)) != np.sign(np.dot(mcpoints[:, 0:3], g))\n",
    "    error = np.mean(mcpoints[:, 3])\n",
    "    return error"
   ]
  },
  {
   "cell_type": "code",
   "execution_count": 150,
   "metadata": {},
   "outputs": [
    {
     "name": "stdout",
     "output_type": "stream",
     "text": [
      "[ 2.          3.21994278 -6.70298142] 84\n",
      "0.008346\n"
     ]
    }
   ],
   "source": [
    "n_points = 10**2\n",
    "w = generate_target()\n",
    "data = generate_sample(n_points, w)\n",
    "g, iters = pla(data)\n",
    "error = monte_carlo(w, g)\n",
    "print(g, iters)\n",
    "print(error)"
   ]
  },
  {
   "cell_type": "code",
   "execution_count": 151,
   "metadata": {},
   "outputs": [
    {
     "data": {
      "image/png": "[encoded data removed]",
      "text/plain": [
       "<matplotlib.figure.Figure at 0x1a12837518>"
      ]
     },
     "metadata": {},
     "output_type": "display_data"
    }
   ],
   "source": [
    "# Split the test points into the two classification groups\n",
    "positives = data[data[:, 3] > 0, :]\n",
    "negatives = data[data[:, 3] < 0, :]\n",
    "\n",
    "# Plot f, g, and \\mathbf{x}\n",
    "x = np.linspace(-1,1)\n",
    "xpos = positives[:, 1]\n",
    "ypos = positives[:, 2]\n",
    "xneg = negatives[:, 1]\n",
    "yneg = negatives[:, 2]\n",
    "\n",
    "plt.plot(xneg,yneg,'.g')\n",
    "plt.plot(xpos,ypos,'.r')\n",
    "plt.plot(x,w[1]*x+w[0])\n",
    "plt.plot(x,-g[1]/g[2]*x-g[0]/g[2],'--k')\n",
    "plt.axis([-1,1,-1,1])\n",
    "#plt.legend(['Negative','Positive'])\n",
    "plt.show()"
   ]
  },
  {
   "cell_type": "markdown",
   "metadata": {
    "collapsed": true
   },
   "source": [
    "### SVM Implementation"
   ]
  },
  {
   "cell_type": "code",
   "execution_count": 152,
   "metadata": {
    "collapsed": true
   },
   "outputs": [],
   "source": [
    "from sklearn.svm import SVC"
   ]
  },
  {
   "cell_type": "code",
   "execution_count": 153,
   "metadata": {},
   "outputs": [
    {
     "data": {
      "text/plain": [
       "SVC(C=inf, cache_size=200, class_weight=None, coef0=0.0,\n",
       "  decision_function_shape='ovr', degree=3, gamma='auto', kernel='linear',\n",
       "  max_iter=-1, probability=False, random_state=None, shrinking=True,\n",
       "  tol=0.001, verbose=False)"
      ]
     },
     "execution_count": 153,
     "metadata": {},
     "output_type": "execute_result"
    }
   ],
   "source": [
    "X = data[:, 1:3]\n",
    "y = data[:, 3]\n",
    "\n",
    "svm = SVC(C=np.inf, kernel='linear')\n",
    "svm.fit(X, y)"
   ]
  },
  {
   "cell_type": "code",
   "execution_count": 154,
   "metadata": {},
   "outputs": [],
   "source": [
    "g1, g2 = svm.coef_[0]\n",
    "g0 = svm.intercept_"
   ]
  },
  {
   "cell_type": "code",
   "execution_count": 155,
   "metadata": {},
   "outputs": [
    {
     "data": {
      "image/png": "[encoded data removed]",
      "text/plain": [
       "<matplotlib.figure.Figure at 0x1a125aaba8>"
      ]
     },
     "metadata": {},
     "output_type": "display_data"
    }
   ],
   "source": [
    "plt.plot(xneg,yneg,'.g')\n",
    "plt.plot(xpos,ypos,'.r')\n",
    "plt.plot(x,w[1]*x+w[0])\n",
    "plt.plot(x,-g1/g2*x-g0/g2,'--k')\n",
    "plt.axis([-1,1,-1,1])\n",
    "#plt.legend(['Negative','Positive'])\n",
    "plt.show()"
   ]
  },
  {
   "cell_type": "code",
   "execution_count": 156,
   "metadata": {},
   "outputs": [
    {
     "data": {
      "text/plain": [
       "array([[-0.97698959, -0.12822607],\n",
       "       [ 0.30618041,  0.47729873],\n",
       "       [ 0.05262168,  0.31867948]])"
      ]
     },
     "execution_count": 156,
     "metadata": {},
     "output_type": "execute_result"
    }
   ],
   "source": [
    "svm.support_vectors_"
   ]
  },
  {
   "cell_type": "code",
   "execution_count": null,
   "metadata": {
    "collapsed": true
   },
   "outputs": [],
   "source": []
  }
 ],
 "metadata": {
  "kernelspec": {
   "display_name": "Python 3",
   "language": "python",
   "name": "python3"
  },
  "language_info": {
   "codemirror_mode": {
    "name": "ipython",
    "version": 3
   },
   "file_extension": ".py",
   "mimetype": "text/x-python",
   "name": "python",
   "nbconvert_exporter": "python",
   "pygments_lexer": "ipython3",
   "version": "3.5.4"
  }
 },
 "nbformat": 4,
 "nbformat_minor": 2
}
