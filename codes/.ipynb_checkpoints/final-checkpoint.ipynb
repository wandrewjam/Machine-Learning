{
 "cells": [
  {
   "cell_type": "code",
   "execution_count": 1,
   "metadata": {
    "collapsed": true
   },
   "outputs": [],
   "source": [
    "import numpy as np\n",
    "import matplotlib.pyplot as plt\n",
    "from sklearn.svm import SVC"
   ]
  },
  {
   "cell_type": "code",
   "execution_count": 139,
   "metadata": {
    "collapsed": true
   },
   "outputs": [],
   "source": [
    "# Import data from the listed url\n",
    "train = np.loadtxt(np.DataSource().open('http://www.amlbook.com/data/zip/features.train'), dtype=float)\n",
    "test = np.loadtxt(np.DataSource().open('http://www.amlbook.com/data/zip/features.test'), dtype=float)"
   ]
  },
  {
   "cell_type": "code",
   "execution_count": 140,
   "metadata": {
    "collapsed": true
   },
   "outputs": [],
   "source": [
    "def transform(x):\n",
    "    phi = np.ones([x.shape[0], 6])\n",
    "    phi[:, 1:3] = x[:, 1:]\n",
    "    phi[:, 3] = x[:, 1]*x[:, 2]\n",
    "    phi[:, 4:] = x[:, 1:]**2\n",
    "    return phi"
   ]
  },
  {
   "cell_type": "code",
   "execution_count": 141,
   "metadata": {
    "collapsed": true
   },
   "outputs": [],
   "source": [
    "def classify_points(Z_data, w_guess):\n",
    "    return np.sign(np.dot(Z_data, w_guess))"
   ]
  },
  {
   "cell_type": "code",
   "execution_count": 142,
   "metadata": {
    "collapsed": true
   },
   "outputs": [],
   "source": [
    "def one_vs_all(num, y):\n",
    "    # Reclassifies the data using a one versus all scheme\n",
    "    new_y = np.empty_like(y)\n",
    "    new_y[y != num] = -1\n",
    "    new_y[y == num] = 1\n",
    "    return new_y"
   ]
  },
  {
   "cell_type": "code",
   "execution_count": 143,
   "metadata": {
    "collapsed": true
   },
   "outputs": [],
   "source": [
    "def one_vs_one(num1, num2, X, y):\n",
    "    # Reclassifies the data using a one versus one scheme\n",
    "    new_X = np.copy(X[y == num1])\n",
    "    new_X = np.vstack((new_X, X[y == num2]))\n",
    "    new_y = -np.ones_like(y[y == num1])\n",
    "    new_y = np.append(new_y, np.ones_like(y[y == num2]))\n",
    "    return new_X, new_y"
   ]
  },
  {
   "cell_type": "code",
   "execution_count": 144,
   "metadata": {
    "collapsed": true
   },
   "outputs": [],
   "source": [
    "def run_linear_regression(X_in, y_in, X_out, y_out, transform=lambda x: x, weight_decay=False, lam=None):\n",
    "    # Apply the nonlinear transformation to the data\n",
    "    Z_in, Z_out = transform(X_in), transform(X_out)\n",
    "    \n",
    "    # Find the least squares solution w to Z*w = y\n",
    "    if weight_decay:\n",
    "        A = np.dot(Z_in.T, Z_in) + lam*np.eye(Z_in.shape[1])\n",
    "        b = np.dot(Z_in.T, y_in)\n",
    "        w = np.linalg.solve(A, b)\n",
    "    else:\n",
    "        w = np.linalg.lstsq(Z_in, y_in)[0]\n",
    "    \n",
    "    # Classify points based on w\n",
    "    y_in_guess, y_out_guess = classify_points(Z_in, w), classify_points(Z_out, w)\n",
    "    \n",
    "    # Calculate the error\n",
    "    error_in = np.mean(y_in_guess != y_in)\n",
    "    error_out = np.mean(y_out_guess != y_out)\n",
    "    return w, error_in, error_out"
   ]
  },
  {
   "cell_type": "code",
   "execution_count": 145,
   "metadata": {
    "collapsed": true
   },
   "outputs": [],
   "source": [
    "def postal_experiment(num, X_in, y_in, X_out, y_out):\n",
    "    y_in_mod, y_out_mod = one_vs_all(num, y_in), one_vs_all(num, y_out)\n",
    "    wlin, e_in_lin, e_out_lin = run_linear_regression(X_in, y_in_mod, X_out, y_out_mod, weight_decay=True, lam=1)\n",
    "    wquad, e_in_quad, e_out_quad = run_linear_regression(X_in, y_in_mod, X_out, y_out_mod, transform=transform, \n",
    "                                                   weight_decay=True, lam=1)\n",
    "    return wlin, e_in_lin, e_out_lin, wquad, e_in_quad, e_out_quad"
   ]
  },
  {
   "cell_type": "code",
   "execution_count": 146,
   "metadata": {
    "collapsed": true
   },
   "outputs": [],
   "source": [
    "X_in, X_out = np.ones(shape=(train.shape[0], train.shape[1])), np.ones(shape=(test.shape[0], test.shape[1]))\n",
    "X_in[:, 1:], y_in = train[:, 1:], train[:, 0]\n",
    "X_out[:, 1:], y_out = test[:, 1:], test[:, 0]"
   ]
  },
  {
   "cell_type": "code",
   "execution_count": 147,
   "metadata": {},
   "outputs": [
    {
     "name": "stdout",
     "output_type": "stream",
     "text": [
      " i   |   e_in_lin   |   e_out_lin   |   e_in_quad   |   e_out_quad   \n",
      "--------------------------------------------------------------------\n",
      " 0   |   0.106627   |   0.1066268   |   0.1066268   |   0.10662681   \n",
      " 1   |   0.021923   |   0.0219233   |   0.0219233   |   0.02192327   \n",
      " 2   |   0.098655   |   0.0986547   |   0.0986547   |   0.09865471   \n",
      " 3   |   0.082711   |   0.0827105   |   0.0827105   |   0.08271051   \n",
      " 4   |   0.099651   |   0.0996512   |   0.0996512   |   0.09965122   \n",
      " 5   |   0.079223   |   0.0792227   |   0.0792227   |   0.07922272   \n",
      " 6   |   0.084704   |   0.0847035   |   0.0847035   |   0.08470354   \n",
      " 7   |   0.073244   |   0.0732436   |   0.0732436   |   0.07324365   \n",
      " 8   |   0.082711   |   0.0827105   |   0.0827105   |   0.08271051   \n",
      " 9   |   0.088191   |   0.0881913   |   0.0881913   |   0.08819133   \n"
     ]
    }
   ],
   "source": [
    "e_in_lin, e_out_lin, e_in_quad, e_out_quad = (np.empty(10), )*4\n",
    "for i in range(10):\n",
    "    _, e_in_lin[i], e_out_lin[i], _, e_in_quad[i], e_out_quad[i] = postal_experiment(i, X_in, y_in, X_out, y_out)\n",
    "print(' i   |   e_in_lin   |   e_out_lin   |   e_in_quad   |   e_out_quad   ')\n",
    "print('--------------------------------------------------------------------')\n",
    "format_str = ' %d   |   %.6f   |   %.7f   |   %.7f   |   %.8f   '\n",
    "for i in range(10):\n",
    "    print(format_str % (i, e_in_lin[i], e_out_lin[i], e_in_quad[i], e_out_quad[i]))"
   ]
  },
  {
   "cell_type": "code",
   "execution_count": 148,
   "metadata": {},
   "outputs": [
    {
     "name": "stdout",
     "output_type": "stream",
     "text": [
      "0.00512491992313 0.0259433962264\n"
     ]
    }
   ],
   "source": [
    "new_X, new_y = one_vs_one(1, 5, X_in, y_in)\n",
    "X_out1, y_out1 = one_vs_one(1, 5, X_out, y_out)\n",
    "w, e_in, e_out = run_linear_regression(new_X, new_y, X_out1, y_out1, transform=transform, \n",
    "                                       weight_decay=True, lam=1)\n",
    "print(e_in, e_out)"
   ]
  },
  {
   "cell_type": "code",
   "execution_count": 149,
   "metadata": {},
   "outputs": [
    {
     "data": {
      "image/png": "[encoded data removed]",
      "text/plain": [
       "<matplotlib.figure.Figure at 0x11303d6d8>"
      ]
     },
     "metadata": {},
     "output_type": "display_data"
    }
   ],
   "source": [
    "x1min, x1max = new_X[:, 1].min() - 0.1, new_X[:, 1].max() + 0.1\n",
    "x2min, x2max = new_X[:, 2].min() - 6, new_X[:, 2].max() + 1\n",
    "xx1, xx2 = np.meshgrid(np.linspace(x1min, x1max, 200), np.linspace(x2min, x2max, 200))\n",
    "X_plotting = np.c_[np.ones(xx1.size), xx1.ravel(), xx2.ravel()]\n",
    "plt.scatter(X_out1[:, 1], X_out1[:, 2], c=y_out1)\n",
    "plt.contourf(xx1, xx2, np.sign(np.dot(transform(X_plotting), w)).reshape(xx1.shape), alpha=0.3)\n",
    "plt.show()"
   ]
  },
  {
   "cell_type": "code",
   "execution_count": 150,
   "metadata": {
    "collapsed": true
   },
   "outputs": [],
   "source": [
    "x1min, x1max = X_in[:, 1].min() - 0.1, X_in[:, 1].max() + 0.1\n",
    "x2min, x2max = X_in[:, 2].min() - 6, X_in[:, 2].max() + 1\n",
    "xx1, xx2 = np.meshgrid(np.linspace(x1min, x1max, 200), np.linspace(x2min, x2max, 200))\n",
    "X_plotting = np.c_[np.ones(xx1.size), xx1.ravel(), xx2.ravel()]"
   ]
  },
  {
   "cell_type": "code",
   "execution_count": 151,
   "metadata": {},
   "outputs": [
    {
     "name": "stdout",
     "output_type": "stream",
     "text": [
      "[[ 1  0]\n",
      " [ 0  1]\n",
      " [ 0 -1]\n",
      " [-1  0]\n",
      " [ 0  2]\n",
      " [ 0 -2]\n",
      " [-2  0]]\n"
     ]
    }
   ],
   "source": [
    "svx = np.array([1, 0, 0, 1, 0, -1, -1, 0, 0, 2, 0, -2, -2, 0])\n",
    "svx = np.reshape(svx, (7, 2))\n",
    "svy = np.array([-1, -1, -1, 1, 1, 1, 1])\n",
    "print(svx)"
   ]
  },
  {
   "cell_type": "code",
   "execution_count": 152,
   "metadata": {
    "collapsed": true
   },
   "outputs": [],
   "source": [
    "def svtransform(x):\n",
    "    z = np.empty_like(x.T)\n",
    "    z[0] = x.T[1]**2 - 2*x.T[0] - 1\n",
    "    z[1] = x.T[0]**2 - 2*x.T[1] + 1\n",
    "    return z.T"
   ]
  },
  {
   "cell_type": "code",
   "execution_count": 153,
   "metadata": {},
   "outputs": [
    {
     "data": {
      "image/png": "[encoded data removed]",
      "text/plain": [
       "<matplotlib.figure.Figure at 0x1130d9438>"
      ]
     },
     "metadata": {},
     "output_type": "display_data"
    }
   ],
   "source": [
    "svz = svtransform(svx)[:-1]\n",
    "plt.scatter(svz[:, 0], svz[:, 1], c=svy[:-1])\n",
    "plt.show()"
   ]
  },
  {
   "cell_type": "code",
   "execution_count": 154,
   "metadata": {
    "scrolled": false
   },
   "outputs": [
    {
     "data": {
      "text/plain": [
       "SVC(C=inf, cache_size=200, class_weight=None, coef0=1,\n",
       "  decision_function_shape='ovr', degree=2, gamma='auto', kernel='poly',\n",
       "  max_iter=100000, probability=False, random_state=None, shrinking=True,\n",
       "  tol=0.001, verbose=False)"
      ]
     },
     "execution_count": 154,
     "metadata": {},
     "output_type": "execute_result"
    }
   ],
   "source": [
    "clf = SVC(C=np.inf, kernel='poly', degree=2, coef0 = 1, max_iter=10**5)\n",
    "clf.fit(svx, svy)"
   ]
  },
  {
   "cell_type": "code",
   "execution_count": 155,
   "metadata": {},
   "outputs": [
    {
     "data": {
      "image/png": "[encoded data removed]",
      "text/plain": [
       "<matplotlib.figure.Figure at 0x112c65d30>"
      ]
     },
     "metadata": {},
     "output_type": "display_data"
    }
   ],
   "source": [
    "x1min, x1max = svx[:, 0].min() - 0.1, svx[:, 0].max() + 0.1\n",
    "x2min, x2max = svx[:, 1].min() - 0.1, svx[:, 1].max() + 0.1\n",
    "xx1, xx2 = np.meshgrid(np.linspace(x1min, x1max, 200), np.linspace(x2min, x2max, 200))\n",
    "X_plotting = np.c_[xx1.ravel(), xx2.ravel()]\n",
    "plt.scatter(svx[:, 0], svx[:, 1], c=svy)\n",
    "plt.contourf(xx1, xx2, clf.predict(X_plotting).reshape(xx1.shape), alpha=0.3)\n",
    "plt.show()"
   ]
  },
  {
   "cell_type": "code",
   "execution_count": 82,
   "metadata": {},
   "outputs": [
    {
     "name": "stdout",
     "output_type": "stream",
     "text": [
      "[2 3]\n",
      "[1 2 3 4 5]\n"
     ]
    }
   ],
   "source": [
    "print(clf.n_support_)\n",
    "print(clf.support_)"
   ]
  },
  {
   "cell_type": "code",
   "execution_count": 118,
   "metadata": {
    "collapsed": true
   },
   "outputs": [],
   "source": [
    "def target_function(x):\n",
    "    return np.sign(x[:, 1] - x[:, 0] + np.sin(np.pi*x[:, 0])/4)"
   ]
  },
  {
   "cell_type": "code",
   "execution_count": 119,
   "metadata": {
    "collapsed": true
   },
   "outputs": [],
   "source": [
    "def generate_data(n_points):\n",
    "    x = np.random.uniform(low=-1, high=1, size=(n_points, 2))\n",
    "    y = target_function(x)\n",
    "    return x, y"
   ]
  },
  {
   "cell_type": "code",
   "execution_count": 120,
   "metadata": {
    "collapsed": true
   },
   "outputs": [],
   "source": [
    "def cluster(X, mu):\n",
    "    cluster_indices = np.empty(X.shape[0])\n",
    "    for i in range(X.shape[0]):\n",
    "        best_distance = np.inf\n",
    "        best_index = mu.shape[0]\n",
    "        for j in range(mu.shape[0]):\n",
    "            if np.linalg.norm(X[i] - mu[j]) < best_distance:\n",
    "                best_index = j\n",
    "                best_distance = np.linalg.norm(X[i] - mu[j])\n",
    "        cluster_indices[i] = best_index\n",
    "    return cluster_indices"
   ]
  },
  {
   "cell_type": "code",
   "execution_count": 121,
   "metadata": {
    "collapsed": true
   },
   "outputs": [],
   "source": [
    "def lloyd(X, k, mu=None):\n",
    "    # Initialize centers randomly\n",
    "    if mu == None:\n",
    "        x1min, x2min = np.amin(X, axis=0)\n",
    "        x1max, x2max = np.amax(X, axis=0)\n",
    "        mu = np.empty(shape=(k, X.shape[1]))\n",
    "        mu[:, 0] = np.random.uniform(low=x1min, high=x1max, size=k)\n",
    "        mu[:, 1] = np.random.uniform(low=x2min, high=x2max, size=k)\n",
    "    \n",
    "    cluster_indices = cluster(X, mu)\n",
    "    \n",
    "    for j in range(k):\n",
    "        if j not in cluster_indices:\n",
    "            mu, cluster_indices = lloyd(X, k)\n",
    "            return mu, cluster_indices\n",
    "    \n",
    "    iterate = True\n",
    "    while iterate:\n",
    "        for j in range(k):\n",
    "            mu[j] = np.mean(X[cluster_indices == j], axis=0)\n",
    "        \n",
    "        new_cluster_indices = cluster(X, mu)\n",
    "        \n",
    "        for j in range(k):\n",
    "            if j not in cluster_indices:\n",
    "                # If one of the clusters is empty, start over\n",
    "                mu, cluster_indices = lloyd(X, k)\n",
    "                return mu, cluster_indices\n",
    "        \n",
    "        iterate = not np.all(new_cluster_indices == cluster_indices)\n",
    "        cluster_indices = np.copy(new_cluster_indices)\n",
    "    \n",
    "    return mu, cluster_indices"
   ]
  },
  {
   "cell_type": "code",
   "execution_count": 131,
   "metadata": {},
   "outputs": [],
   "source": [
    "def trial(gamma, N=100, K=9):\n",
    "    x, y = generate_data(N)\n",
    "    \n",
    "    clf = SVC(C=np.inf, gamma=gamma, max_iter=10**5)\n",
    "    clf.fit(x, y)\n",
    "    svc_e_in = np.mean(clf.predict(x) != y)\n",
    "    \n",
    "    mu, cluster_indices = lloyd(x, K)\n",
    "    \n",
    "    phi = np.ones(shape=(N, K + 1))\n",
    "    for i in range(N):\n",
    "        for j in range(K):\n",
    "            phi[i, j + 1] = np.exp(-gamma*np.linalg.norm(x[i] - mu[j])**2)\n",
    "    w = np.linalg.lstsq(phi, y)[0]\n",
    "    \n",
    "    rbf_e_in_array = np.zeros(N)\n",
    "    for i in range(N):\n",
    "        h_sum = w[0]\n",
    "        for j in range(K):\n",
    "            h_sum += w[j + 1]*np.exp(-gamma*np.linalg.norm(x[i] - mu[j])**2)\n",
    "        rbf_e_in_array[i] = np.abs(np.sign(h_sum) - y[i])\n",
    "    rbf_e_in = np.mean(rbf_e_in_array)\n",
    "    \n",
    "    x_out, y_out = generate_data(10**2)\n",
    "    svc_e_out = np.mean(clf.predict(x_out) != y_out)\n",
    "    \n",
    "    rbf_e_out_array = np.zeros(10**2)\n",
    "    for i in range(10**2):\n",
    "        h_sum = w[0]\n",
    "        for j in range(K):\n",
    "            h_sum += w[j + 1]*np.exp(-gamma*np.linalg.norm(x_out[i] - mu[j])**2)\n",
    "        rbf_e_out_array[i] = np.abs(np.sign(h_sum) - y_out[i])\n",
    "    rbf_e_out = np.mean(rbf_e_out_array)\n",
    "    \n",
    "    return svc_e_in, svc_e_out, rbf_e_in, rbf_e_out"
   ]
  },
  {
   "cell_type": "code",
   "execution_count": 132,
   "metadata": {
    "collapsed": true
   },
   "outputs": [],
   "source": [
    "def experiment(trials, gamma, N=100, K=9):\n",
    "    svc_e_in, svc_e_out, rbf_e_in, rbf_e_out = (np.zeros(trials), )*4\n",
    "    \n",
    "    for i in range(trials):\n",
    "        svc_e_in[i], svc_e_out[i], rbf_e_in[i], rbf_e_out[i] = trial(gamma, N, K)\n",
    "    \n",
    "    return svc_e_in, svc_e_out, rbf_e_in, rbf_e_out"
   ]
  },
  {
   "cell_type": "code",
   "execution_count": 135,
   "metadata": {},
   "outputs": [],
   "source": [
    "svc_e_in, svc_e_out, rbf_e_in, rbf_e_out = experiment(100, gamma=1.5, N=100, K=9)"
   ]
  },
  {
   "cell_type": "code",
   "execution_count": 138,
   "metadata": {},
   "outputs": [
    {
     "data": {
      "text/plain": [
       "(array([ 0.04,  0.14,  0.02,  0.06,  0.12,  0.18,  0.02,  0.22,  0.22,  0.08]),\n",
       " array([ 0.04,  0.14,  0.02,  0.06,  0.12,  0.18,  0.02,  0.22,  0.22,  0.08]),\n",
       " array([ 0.04,  0.14,  0.02,  0.06,  0.12,  0.18,  0.02,  0.22,  0.22,  0.08]),\n",
       " array([ 0.04,  0.14,  0.02,  0.06,  0.12,  0.18,  0.02,  0.22,  0.22,  0.08]))"
      ]
     },
     "execution_count": 138,
     "metadata": {},
     "output_type": "execute_result"
    }
   ],
   "source": [
    "svc_e_in, svc_e_out, rbf_e_in, rbf_e_out"
   ]
  },
  {
   "cell_type": "code",
   "execution_count": 62,
   "metadata": {},
   "outputs": [
    {
     "data": {
      "image/png": "[encoded data removed]",
      "text/plain": [
       "<matplotlib.figure.Figure at 0x1130d29e8>"
      ]
     },
     "metadata": {},
     "output_type": "display_data"
    }
   ],
   "source": [
    "x_plotting = np.linspace(-1, 1)\n",
    "x, y = generate_data(100)\n",
    "mu, cluster_indices = lloyd(x, 10)\n",
    "areas = (10 + 3*y)**2\n",
    "plt.scatter(x[:, 0], x[:, 1], s=areas, c=cluster_indices)\n",
    "plt.plot(mu[:, 0], mu[:, 1], 'kx')\n",
    "plt.plot(x_plotting, x_plotting - np.sin(np.pi*x_plotting)/4)\n",
    "plt.show()"
   ]
  },
  {
   "cell_type": "code",
   "execution_count": 86,
   "metadata": {},
   "outputs": [],
   "source": [
    "clf = SVC(C=np.inf, gamma=1.5, max_iter=10**5)"
   ]
  },
  {
   "cell_type": "code",
   "execution_count": 87,
   "metadata": {},
   "outputs": [
    {
     "data": {
      "text/plain": [
       "SVC(C=inf, cache_size=200, class_weight=None, coef0=0.0,\n",
       "  decision_function_shape='ovr', degree=3, gamma=1.5, kernel='rbf',\n",
       "  max_iter=100000, probability=False, random_state=None, shrinking=True,\n",
       "  tol=0.001, verbose=False)"
      ]
     },
     "execution_count": 87,
     "metadata": {},
     "output_type": "execute_result"
    }
   ],
   "source": [
    "clf.fit(x, y)"
   ]
  },
  {
   "cell_type": "code",
   "execution_count": 92,
   "metadata": {},
   "outputs": [
    {
     "data": {
      "text/plain": [
       "0.0"
      ]
     },
     "execution_count": 92,
     "metadata": {},
     "output_type": "execute_result"
    }
   ],
   "source": [
    "np.mean(clf.predict(x) != y)"
   ]
  },
  {
   "cell_type": "code",
   "execution_count": null,
   "metadata": {
    "collapsed": true
   },
   "outputs": [],
   "source": []
  }
 ],
 "metadata": {
  "kernelspec": {
   "display_name": "Python 3",
   "language": "python",
   "name": "python3"
  },
  "language_info": {
   "codemirror_mode": {
    "name": "ipython",
    "version": 3
   },
   "file_extension": ".py",
   "mimetype": "text/x-python",
   "name": "python",
   "nbconvert_exporter": "python",
   "pygments_lexer": "ipython3",
   "version": "3.5.4"
  }
 },
 "nbformat": 4,
 "nbformat_minor": 2
}
