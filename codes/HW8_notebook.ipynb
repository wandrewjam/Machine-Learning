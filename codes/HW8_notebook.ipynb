{
 "cells": [
  {
   "cell_type": "code",
   "execution_count": 1,
   "metadata": {
    "collapsed": true
   },
   "outputs": [],
   "source": [
    "import numpy as np\n",
    "import matplotlib.pyplot as plt\n",
    "from sklearn.svm import SVC"
   ]
  },
  {
   "cell_type": "code",
   "execution_count": 2,
   "metadata": {
    "collapsed": true
   },
   "outputs": [],
   "source": [
    "# Import data from the listed url\n",
    "train = np.loadtxt(np.DataSource().open('http://www.amlbook.com/data/zip/features.train'), dtype=float)\n",
    "test = np.loadtxt(np.DataSource().open('http://www.amlbook.com/data/zip/features.test'), dtype=float)"
   ]
  },
  {
   "cell_type": "code",
   "execution_count": 3,
   "metadata": {
    "collapsed": true
   },
   "outputs": [],
   "source": [
    "def fit_number(x1, x2, y, number=0, penalty=0.01, q=3, plot=False):\n",
    "    ova_y = np.copy(y)\n",
    "    ova_y[y != number] = -1\n",
    "    ova_y[y == number] = 1\n",
    "    X = np.c_[x1, x2]\n",
    "    clf = SVC(C=penalty, kernel='poly', degree=q)\n",
    "    clf.fit(X, ova_y)\n",
    "    \n",
    "    predictions = clf.predict(X)\n",
    "    e_in = np.mean(ova_y != predictions)\n",
    "    n_sv = np.sum(clf.n_support_)\n",
    "    \n",
    "    if plot:\n",
    "        colors = np.copy(train[:, 0])\n",
    "        colors = colors == number\n",
    "        plt.scatter(x1, x2, c=colors, alpha=0.3)\n",
    "        plt.show()\n",
    "        \n",
    "    return e_in, n_sv"
   ]
  },
  {
   "cell_type": "code",
   "execution_count": 4,
   "metadata": {
    "collapsed": true
   },
   "outputs": [],
   "source": [
    "def cv(x1, x2, y):\n",
    "    indices = np.random.permutation(len(x1))\n",
    "    "
   ]
  },
  {
   "cell_type": "code",
   "execution_count": 5,
   "metadata": {},
   "outputs": [
    {
     "name": "stdout",
     "output_type": "stream",
     "text": [
      "For number = 0\n",
      "In-sample error = 0.129886   |   Number of support vectors = 2248\n",
      "For number = 2\n",
      "In-sample error = 0.100261   |   Number of support vectors = 1477\n",
      "For number = 4\n",
      "In-sample error = 0.089425   |   Number of support vectors = 1314\n",
      "For number = 6\n",
      "In-sample error = 0.091071   |   Number of support vectors = 1344\n",
      "For number = 8\n",
      "In-sample error = 0.074338   |   Number of support vectors = 1124\n",
      "For number = 1\n",
      "In-sample error = 0.015773   |   Number of support vectors = 456\n",
      "For number = 3\n",
      "In-sample error = 0.090248   |   Number of support vectors = 1366\n",
      "For number = 5\n",
      "In-sample error = 0.076258   |   Number of support vectors = 1132\n",
      "For number = 7\n",
      "In-sample error = 0.088465   |   Number of support vectors = 1302\n",
      "For number = 9\n",
      "In-sample error = 0.088328   |   Number of support vectors = 1317\n"
     ]
    }
   ],
   "source": [
    "y, x1, x2 = train[:, 0], train[:, 1], train[:, 2]\n",
    "for i in range(0, 10, 2):\n",
    "    print('For number = %d'% i)\n",
    "    print('In-sample error = %.6f   |   Number of support vectors = %d' % fit_number(x1, x2, y, number=i))\n",
    "    \n",
    "for i in range(1, 10, 2):\n",
    "    print('For number = %d'% i)\n",
    "    print('In-sample error = %.6f   |   Number of support vectors = %d' % fit_number(x1, x2, y, number=i))"
   ]
  },
  {
   "cell_type": "code",
   "execution_count": 6,
   "metadata": {},
   "outputs": [
    {
     "name": "stdout",
     "output_type": "stream",
     "text": [
      "0.00128122998078\n",
      "[ 7 11]\n"
     ]
    }
   ],
   "source": [
    "indices15 = np.where(np.any(np.c_[y == 1, y == 5], axis=1))\n",
    "ovo15 = y[indices15]\n",
    "X = np.c_[x1, x2]\n",
    "X15 = X[indices15]\n",
    "clf15 = SVC(C=1000000)\n",
    "clf15.fit(X15, ovo15)\n",
    "print(np.mean(ovo15 != clf15.predict(X15)))\n",
    "print(clf15.n_support_)"
   ]
  },
  {
   "cell_type": "code",
   "execution_count": 10,
   "metadata": {
    "collapsed": true
   },
   "outputs": [],
   "source": [
    "x1min, x1max = X15[:, 0].min() - 0.1, X15[:, 0].max() + 0.1\n",
    "x2min, x2max = X15[:, 1].min() - 1, X15[:, 1].max() + 1\n",
    "xx1, xx2 = np.meshgrid(np.linspace(x1min, x1max, 200), np.linspace(x2min, x2max, 200))"
   ]
  },
  {
   "cell_type": "code",
   "execution_count": 14,
   "metadata": {},
   "outputs": [
    {
     "data": {
      "image/png": "[encoded data removed]",
      "text/plain": [
       "<matplotlib.figure.Figure at 0x1a16c10390>"
      ]
     },
     "metadata": {},
     "output_type": "display_data"
    }
   ],
   "source": [
    "plt.scatter(X15[:,0], X15[:,1], c=ovo15)\n",
    "plt.contourf(xx1, xx2, clf15.predict(np.c_[xx1.ravel(), xx2.ravel()]).reshape(xx1.shape), alpha=0.3)\n",
    "plt.show()"
   ]
  },
  {
   "cell_type": "code",
   "execution_count": 9,
   "metadata": {},
   "outputs": [
    {
     "ename": "NameError",
     "evalue": "name 'clf' is not defined",
     "traceback": [
      "\u001b[0;31m---------------------------------------------------------------------------\u001b[0m",
      "\u001b[0;31mNameError\u001b[0m                                 Traceback (most recent call last)",
      "\u001b[0;32m<ipython-input-9-f390d7c05a70>\u001b[0m in \u001b[0;36m<module>\u001b[0;34m()\u001b[0m\n\u001b[1;32m      2\u001b[0m \u001b[0mx2min\u001b[0m\u001b[0;34m,\u001b[0m \u001b[0mx2max\u001b[0m \u001b[0;34m=\u001b[0m \u001b[0mX\u001b[0m\u001b[0;34m[\u001b[0m\u001b[0;34m:\u001b[0m\u001b[0;34m,\u001b[0m \u001b[0;36m1\u001b[0m\u001b[0;34m]\u001b[0m\u001b[0;34m.\u001b[0m\u001b[0mmin\u001b[0m\u001b[0;34m(\u001b[0m\u001b[0;34m)\u001b[0m \u001b[0;34m-\u001b[0m \u001b[0;36m1\u001b[0m\u001b[0;34m,\u001b[0m \u001b[0mX\u001b[0m\u001b[0;34m[\u001b[0m\u001b[0;34m:\u001b[0m\u001b[0;34m,\u001b[0m \u001b[0;36m1\u001b[0m\u001b[0;34m]\u001b[0m\u001b[0;34m.\u001b[0m\u001b[0mmax\u001b[0m\u001b[0;34m(\u001b[0m\u001b[0;34m)\u001b[0m \u001b[0;34m+\u001b[0m \u001b[0;36m1\u001b[0m\u001b[0;34m\u001b[0m\u001b[0m\n\u001b[1;32m      3\u001b[0m \u001b[0mxx1\u001b[0m\u001b[0;34m,\u001b[0m \u001b[0mxx2\u001b[0m \u001b[0;34m=\u001b[0m \u001b[0mnp\u001b[0m\u001b[0;34m.\u001b[0m\u001b[0mmeshgrid\u001b[0m\u001b[0;34m(\u001b[0m\u001b[0mnp\u001b[0m\u001b[0;34m.\u001b[0m\u001b[0mlinspace\u001b[0m\u001b[0;34m(\u001b[0m\u001b[0mx1min\u001b[0m\u001b[0;34m,\u001b[0m \u001b[0mx1max\u001b[0m\u001b[0;34m,\u001b[0m \u001b[0;36m100\u001b[0m\u001b[0;34m)\u001b[0m\u001b[0;34m,\u001b[0m \u001b[0mnp\u001b[0m\u001b[0;34m.\u001b[0m\u001b[0mlinspace\u001b[0m\u001b[0;34m(\u001b[0m\u001b[0mx2min\u001b[0m\u001b[0;34m,\u001b[0m \u001b[0mx2max\u001b[0m\u001b[0;34m,\u001b[0m \u001b[0;36m100\u001b[0m\u001b[0;34m)\u001b[0m\u001b[0;34m)\u001b[0m\u001b[0;34m\u001b[0m\u001b[0m\n\u001b[0;32m----> 4\u001b[0;31m \u001b[0mplt\u001b[0m\u001b[0;34m.\u001b[0m\u001b[0mcontourf\u001b[0m\u001b[0;34m(\u001b[0m\u001b[0mxx1\u001b[0m\u001b[0;34m,\u001b[0m \u001b[0mxx2\u001b[0m\u001b[0;34m,\u001b[0m \u001b[0mclf\u001b[0m\u001b[0;34m.\u001b[0m\u001b[0mpredict\u001b[0m\u001b[0;34m(\u001b[0m\u001b[0mnp\u001b[0m\u001b[0;34m.\u001b[0m\u001b[0mc_\u001b[0m\u001b[0;34m[\u001b[0m\u001b[0mxx1\u001b[0m\u001b[0;34m.\u001b[0m\u001b[0mravel\u001b[0m\u001b[0;34m(\u001b[0m\u001b[0;34m)\u001b[0m\u001b[0;34m,\u001b[0m \u001b[0mxx2\u001b[0m\u001b[0;34m.\u001b[0m\u001b[0mravel\u001b[0m\u001b[0;34m(\u001b[0m\u001b[0;34m)\u001b[0m\u001b[0;34m]\u001b[0m\u001b[0;34m)\u001b[0m\u001b[0;34m.\u001b[0m\u001b[0mreshape\u001b[0m\u001b[0;34m(\u001b[0m\u001b[0mxx1\u001b[0m\u001b[0;34m.\u001b[0m\u001b[0mshape\u001b[0m\u001b[0;34m)\u001b[0m\u001b[0;34m,\u001b[0m \u001b[0malpha\u001b[0m\u001b[0;34m=\u001b[0m\u001b[0;36m0.5\u001b[0m\u001b[0;34m)\u001b[0m\u001b[0;34m\u001b[0m\u001b[0m\n\u001b[0m\u001b[1;32m      5\u001b[0m \u001b[0mplt\u001b[0m\u001b[0;34m.\u001b[0m\u001b[0mscatter\u001b[0m\u001b[0;34m(\u001b[0m\u001b[0mtrain\u001b[0m\u001b[0;34m[\u001b[0m\u001b[0;34m:\u001b[0m\u001b[0;34m,\u001b[0m \u001b[0;36m1\u001b[0m\u001b[0;34m]\u001b[0m\u001b[0;34m,\u001b[0m \u001b[0mtrain\u001b[0m\u001b[0;34m[\u001b[0m\u001b[0;34m:\u001b[0m\u001b[0;34m,\u001b[0m \u001b[0;36m2\u001b[0m\u001b[0;34m]\u001b[0m\u001b[0;34m,\u001b[0m \u001b[0mc\u001b[0m\u001b[0;34m=\u001b[0m\u001b[0mcolors\u001b[0m\u001b[0;34m)\u001b[0m\u001b[0;34m\u001b[0m\u001b[0m\n\u001b[1;32m      6\u001b[0m \u001b[0mplt\u001b[0m\u001b[0;34m.\u001b[0m\u001b[0mshow\u001b[0m\u001b[0;34m(\u001b[0m\u001b[0;34m)\u001b[0m\u001b[0;34m\u001b[0m\u001b[0m\n",
      "\u001b[0;31mNameError\u001b[0m: name 'clf' is not defined"
     ],
     "output_type": "error"
    }
   ],
   "source": [
    "x1min, x1max = X[:, 0].min() - 0.1, X[:, 0].max() + 0.1\n",
    "x2min, x2max = X[:, 1].min() - 1, X[:, 1].max() + 1\n",
    "xx1, xx2 = np.meshgrid(np.linspace(x1min, x1max, 100), np.linspace(x2min, x2max, 100))\n",
    "plt.contourf(xx1, xx2, clf.predict(np.c_[xx1.ravel(), xx2.ravel()]).reshape(xx1.shape), alpha=0.5)\n",
    "plt.scatter(train[:, 1], train[:, 2], c=colors)\n",
    "plt.show()"
   ]
  },
  {
   "cell_type": "code",
   "execution_count": null,
   "metadata": {
    "collapsed": true
   },
   "outputs": [],
   "source": [
    "print(xx1.shape, xx2.shape)\n",
    "print(clf.predict(np.c_[xx1.ravel(), xx2.ravel()]).reshape(xx1.shape).shape)"
   ]
  },
  {
   "cell_type": "code",
   "execution_count": null,
   "metadata": {
    "collapsed": true
   },
   "outputs": [],
   "source": [
    "clf.predict([[0.45, -2]])"
   ]
  },
  {
   "cell_type": "code",
   "execution_count": null,
   "metadata": {
    "collapsed": true
   },
   "outputs": [],
   "source": [
    "clf.predict([[0.7, -4]])"
   ]
  },
  {
   "cell_type": "code",
   "execution_count": null,
   "metadata": {
    "collapsed": true
   },
   "outputs": [],
   "source": []
  }
 ],
 "metadata": {
  "kernelspec": {
   "display_name": "Python 3",
   "language": "python",
   "name": "python3"
  },
  "language_info": {
   "codemirror_mode": {
    "name": "ipython",
    "version": 3
   },
   "file_extension": ".py",
   "mimetype": "text/x-python",
   "name": "python",
   "nbconvert_exporter": "python",
   "pygments_lexer": "ipython3",
   "version": "3.5.4"
  }
 },
 "nbformat": 4,
 "nbformat_minor": 2
}
